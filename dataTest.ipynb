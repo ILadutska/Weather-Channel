{
 "cells": [
  {
   "cell_type": "markdown",
   "metadata": {},
   "source": [
    "3084406677 rows"
   ]
  },
  {
   "cell_type": "code",
   "execution_count": 1,
   "metadata": {},
   "outputs": [],
   "source": [
    "import pandas as pd \n",
    "import dask.dataframe as dd"
   ]
  },
  {
   "cell_type": "code",
   "execution_count": 3,
   "metadata": {},
   "outputs": [],
   "source": [
    "dtypes = {\n",
    "    'ID': 'str', \n",
    "    'DATE': 'int32',\n",
    "    'ELEMENT': 'category',\n",
    "    'VALUE': 'int32',\n",
    "}\n",
    "\n",
    "df = dd.read_csv(\"data\\superghcnd_full_20230915.csv\", names=[\"ID\", \"DATE\", \"ELEMENT\", \"VALUE\"], dtype=dtypes, usecols=[0, 1, 2, 3])"
   ]
  },
  {
   "cell_type": "code",
   "execution_count": 5,
   "metadata": {},
   "outputs": [
    {
     "data": {
      "text/plain": [
       "17630101"
      ]
     },
     "execution_count": 5,
     "metadata": {},
     "output_type": "execute_result"
    }
   ],
   "source": [
    "min_date = df['DATE'].min().compute()\n",
    "min_date"
   ]
  },
  {
   "cell_type": "code",
   "execution_count": 9,
   "metadata": {},
   "outputs": [
    {
     "data": {
      "text/plain": [
       "PRCP    1063266835\n",
       "TMAX     453596234\n",
       "TMIN     452388478\n",
       "SNOW     351089540\n",
       "SNWD     296075186\n",
       "           ...    \n",
       "ACSC           134\n",
       "ACMC            76\n",
       "SX57            62\n",
       "SN57            31\n",
       "WV18            21\n",
       "Name: ELEMENT, Length: 144, dtype: int64"
      ]
     },
     "execution_count": 9,
     "metadata": {},
     "output_type": "execute_result"
    }
   ],
   "source": [
    "element_counts = df['ELEMENT'].value_counts().compute()\n",
    "element_counts"
   ]
  },
  {
   "cell_type": "code",
   "execution_count": 11,
   "metadata": {},
   "outputs": [
    {
     "name": "stdout",
     "output_type": "stream",
     "text": [
      "PRCP    1063266835\n",
      "TMAX     453596234\n",
      "TMIN     452388478\n",
      "SNOW     351089540\n",
      "SNWD     296075186\n",
      "TOBS     177075010\n",
      "TAVG      98207468\n",
      "WESD      14785581\n",
      "AWND      10970665\n",
      "WT01       9863382\n",
      "PGTM       9785567\n",
      "WSF2       9054764\n",
      "WDF2       9053725\n",
      "WSF5       8853529\n",
      "WDF5       8844438\n",
      "WSFG       6140185\n",
      "WDFG       6015257\n",
      "WDMV       5891802\n",
      "EVAP       5862079\n",
      "WT03       5859757\n",
      "WT16       5038638\n",
      "FMTM       4558180\n",
      "WESF       3625413\n",
      "WT08       3246674\n",
      "ACSH       3194921\n",
      "MDPR       3159982\n",
      "MXPN       3027662\n",
      "MNPN       3024754\n",
      "DAPR       2973394\n",
      "RHMX       2876703\n",
      "RHMN       2876703\n",
      "RHAV       2874496\n",
      "TSUN       2870575\n",
      "ADPT       2858603\n",
      "AWBT       2858603\n",
      "ASLP       2852827\n",
      "ASTP       2852827\n",
      "ACMH       2748554\n",
      "WSF1       1719815\n",
      "WDF1       1715903\n",
      "WT18       1441966\n",
      "SX32       1322852\n",
      "SN32       1320130\n",
      "PSUN       1183923\n",
      "DWPR       1130428\n",
      "SX02       1093180\n",
      "SN02       1092048\n",
      "WSFM       1075731\n",
      "WDFM       1075432\n",
      "WT13       1010395\n",
      "WT11        902815\n",
      "WT02        796143\n",
      "WT04        526540\n",
      "SX52        514491\n",
      "SN52        509454\n",
      "WT05        454056\n",
      "WT06        424307\n",
      "WT14        406733\n",
      "GAHT        293489\n",
      "SX03        245905\n",
      "SN03        244869\n",
      "WT09        235214\n",
      "WSFI        223598\n",
      "AWDR        222481\n",
      "SX01        187892\n",
      "SN01        187297\n",
      "SN31        187105\n",
      "SX31        187095\n",
      "SX33        169471\n",
      "SN33        169132\n",
      "SX12        129264\n",
      "SN12        129172\n",
      "WT07        107876\n",
      "DATN         96756\n",
      "MDTN         96755\n",
      "DATX         94774\n",
      "MDTX         94774\n",
      "MDEV         77543\n",
      "DAEV         77473\n",
      "MDSF         75167\n",
      "WT22         65114\n",
      "MDWM         63335\n",
      "DAWM         63297\n",
      "SN53         62512\n",
      "SX53         62052\n",
      "SX51         51086\n",
      "SN51         51069\n",
      "WT19         42636\n",
      "WV03         33626\n",
      "DASF         32092\n",
      "WT17         28048\n",
      "SX35         25427\n",
      "WT21         23998\n",
      "WDFI         21663\n",
      "SN35         19941\n",
      "WV20         19082\n",
      "WT15         18598\n",
      "SX55         17898\n",
      "SN55         17084\n",
      "SX13         16617\n",
      "SN13         16612\n",
      "THIC         13004\n",
      "SX36         12708\n",
      "SX11         10208\n",
      "SN11         10197\n",
      "SX22          9320\n",
      "SN22          9284\n",
      "SX21          9254\n",
      "SN21          9218\n",
      "SX23          8881\n",
      "SN23          8877\n",
      "SN36          8402\n",
      "FRGT          8052\n",
      "FRTH          7978\n",
      "FRGB          7665\n",
      "SX61          6929\n",
      "SN61          6896\n",
      "SX56          5678\n",
      "SN56          5671\n",
      "WT10          4004\n",
      "SN54          3900\n",
      "SX54          3899\n",
      "SX34          3200\n",
      "SX82          3075\n",
      "SX81          3075\n",
      "SN72          3075\n",
      "SN81          3075\n",
      "SX72          3075\n",
      "SX83          3075\n",
      "SN82          3074\n",
      "SN83          3074\n",
      "SN34          3023\n",
      "WV01          2950\n",
      "SX14           730\n",
      "WV07           400\n",
      "SN14           396\n",
      "SX17           335\n",
      "SX15           335\n",
      "WT12           139\n",
      "ACSC           134\n",
      "ACMC            76\n",
      "SX57            62\n",
      "SN57            31\n",
      "WV18            21\n",
      "Name: ELEMENT, dtype: int64\n"
     ]
    }
   ],
   "source": [
    "pd.set_option('display.max_rows', None)\n",
    "print(element_counts)"
   ]
  }
 ],
 "metadata": {
  "kernelspec": {
   "display_name": "swproject",
   "language": "python",
   "name": "python3"
  },
  "language_info": {
   "codemirror_mode": {
    "name": "ipython",
    "version": 3
   },
   "file_extension": ".py",
   "mimetype": "text/x-python",
   "name": "python",
   "nbconvert_exporter": "python",
   "pygments_lexer": "ipython3",
   "version": "3.8.18"
  },
  "orig_nbformat": 4
 },
 "nbformat": 4,
 "nbformat_minor": 2
}
