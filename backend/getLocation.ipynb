{
 "cells": [
  {
   "cell_type": "code",
   "execution_count": 2,
   "metadata": {},
   "outputs": [],
   "source": [
    "from geopy.geocoders import Nominatim"
   ]
  },
  {
   "cell_type": "code",
   "execution_count": 10,
   "metadata": {},
   "outputs": [
    {
     "name": "stdout",
     "output_type": "stream",
     "text": [
      "McDonald, Trumbull County, Ohio, 44437, United States\n",
      "Latitude =  41.163669 \n",
      "\n",
      "Longitude =  -80.724245\n"
     ]
    }
   ],
   "source": [
    "getLoc = input(\"Where are you?\")\n",
    "\n",
    "geo = Nominatim(user_agent=\"location\")\n",
    "\n",
    "location = geo.geocode(getLoc)\n",
    "\n",
    "print(location.address)\n",
    "\n",
    "print(\"Latitude = \", location.latitude, \"\\n\")\n",
    "print(\"Longitude = \", location.longitude)"
   ]
  },
  {
   "cell_type": "code",
   "execution_count": null,
   "metadata": {},
   "outputs": [],
   "source": []
  }
 ],
 "metadata": {
  "kernelspec": {
   "display_name": "base",
   "language": "python",
   "name": "python3"
  },
  "language_info": {
   "codemirror_mode": {
    "name": "ipython",
    "version": 3
   },
   "file_extension": ".py",
   "mimetype": "text/x-python",
   "name": "python",
   "nbconvert_exporter": "python",
   "pygments_lexer": "ipython3",
   "version": "3.9.12"
  }
 },
 "nbformat": 4,
 "nbformat_minor": 2
}
